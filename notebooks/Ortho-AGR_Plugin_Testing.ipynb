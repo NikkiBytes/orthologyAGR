{
 "cells": [
  {
   "cell_type": "markdown",
   "source": [
    "# Testing the Orthology AGR Data Plugin \r\n"
   ],
   "metadata": {}
  },
  {
   "cell_type": "markdown",
   "source": [
    "Dataset: https://www.alliancegenome.org/downloads#orthology\r\n",
    "    \r\n",
    "<br>\r\n",
    "<br>\r\n",
    "\r\n",
    "> **Note**    \r\n",
    "There are some oddities with the orthology data plugin gene search. (shown below under `Unique Cases`).  \r\n",
    "I presented the search results to lab members and it was mentionied *these issues might be beyond this data plugin* and that the data plugin is doing what it should.  "
   ],
   "metadata": {}
  },
  {
   "cell_type": "markdown",
   "source": [
    "## Orthology AGR Data Plugin Search Results \r\n",
    "\r\n"
   ],
   "metadata": {}
  },
  {
   "cell_type": "code",
   "execution_count": 1,
   "source": [
    "import requestsOrom biothings_client import get_client\r\n",
    "\r\n",
    "gene_client = get_client('gene')   \r\n",
    "\r\n",
    "# method to search data plugin on biothings  \r\n",
    "def test_agr_plugin(query_input):\r\n",
    "    # run user query\r\n",
    "    query=\"http://localhost:8000/query?q=%s\"%query_input\r\n",
    "    r=requests.get(query)\r\n",
    "    print(\"\\n[INFO] query: %s \\n\"%query, r.content)\r\n",
    "\r\n",
    "# method to search mygene.info\r\n",
    "def get_gene(gene_id):\r\n",
    "    gene=gene_client.getgene(gene_id, fields='symbol,name')\r\n",
    "    return gene"
   ],
   "outputs": [],
   "metadata": {}
  },
  {
   "cell_type": "markdown",
   "source": [
    "### **Successful Cases**\r\n"
   ],
   "metadata": {}
  },
  {
   "cell_type": "code",
   "execution_count": 9,
   "source": [
    "# Full id - RGD:1311391\r\n",
    "test_agr_plugin(\"1311391\")"
   ],
   "outputs": [
    {
     "output_type": "stream",
     "name": "stdout",
     "text": [
      "\n",
      "[INFO] query: http://localhost:8000/query?q=1311391 \n",
      " b'{\"took\": 1, \"total\": 1, \"max_score\": 15.970608, \"hits\": [{\"_id\": \"1311391\", \"_score\": 15.970608, \"ortholog_info\": [{\"algorithms\": \"OrthoFinder|Hieranoid|OMA|Ensembl Compara|InParanoid|PANTHER|OrthoInspector\", \"algorithmsmatch\": 7, \"gene1id\": \"RGD:1311391\", \"gene1speciesname\": \"Rattus norvegicus\", \"gene1speciestaxonid\": \"NCBITaxon:10116\", \"gene1symbol\": \"Vps53\", \"gene2id\": \"SGD:S000003566\", \"gene2speciesname\": \"Saccharomyces cerevisiae\", \"gene2speciestaxonid\": \"NCBITaxon:559292\", \"gene2symbol\": \"VPS53\", \"isbestrevscore\": \"Yes\", \"isbestscore\": \"Yes\", \"outofalgorithms\": 9}, {\"algorithms\": \"OrthoFinder|Hieranoid|OMA|Ensembl Compara|InParanoid|PANTHER|TreeFam|OrthoInspector\", \"algorithmsmatch\": 8, \"gene1id\": \"RGD:1311391\", \"gene1speciesname\": \"Rattus norvegicus\", \"gene1speciestaxonid\": \"NCBITaxon:10116\", \"gene1symbol\": \"Vps53\", \"gene2id\": \"FB:FBgn0031598\", \"gene2speciesname\": \"Drosophila melanogaster\", \"gene2speciestaxonid\": \"NCBITaxon:7227\", \"gene2symbol\": \"Vps53\", \"isbestrevscore\": \"Yes\", \"isbestscore\": \"Yes\", \"outofalgorithms\": 9}, {\"algorithms\": \"OrthoFinder|Hieranoid|OMA|Ensembl Compara|InParanoid|PANTHER|TreeFam|OrthoInspector\", \"algorithmsmatch\": 8, \"gene1id\": \"RGD:1311391\", \"gene1speciesname\": \"Rattus norvegicus\", \"gene1speciestaxonid\": \"NCBITaxon:10116\", \"gene1symbol\": \"Vps53\", \"gene2id\": \"ZFIN:ZDB-GENE-041114-199\", \"gene2speciesname\": \"Danio rerio\", \"gene2speciestaxonid\": \"NCBITaxon:7955\", \"gene2symbol\": \"vps53\", \"isbestrevscore\": \"Yes\", \"isbestscore\": \"Yes\", \"outofalgorithms\": 9}, {\"algorithms\": \"OrthoFinder|Hieranoid|OMA|HGNC|Ensembl Compara|InParanoid|PANTHER|TreeFam|OrthoInspector\", \"algorithmsmatch\": 9, \"gene1id\": \"RGD:1311391\", \"gene1speciesname\": \"Rattus norvegicus\", \"gene1speciestaxonid\": \"NCBITaxon:10116\", \"gene1symbol\": \"Vps53\", \"gene2id\": \"HGNC:25608\", \"gene2speciesname\": \"Homo sapiens\", \"gene2speciestaxonid\": \"NCBITaxon:9606\", \"gene2symbol\": \"VPS53\", \"isbestrevscore\": \"Yes\", \"isbestscore\": \"Yes\", \"outofalgorithms\": 10}, {\"algorithms\": \"OrthoFinder|Hieranoid|OMA|Ensembl Compara|InParanoid|PANTHER|OrthoInspector\", \"algorithmsmatch\": 7, \"gene1id\": \"RGD:1311391\", \"gene1speciesname\": \"Rattus norvegicus\", \"gene1speciestaxonid\": \"NCBITaxon:10116\", \"gene1symbol\": \"Vps53\", \"gene2id\": \"WB:WBGene00011502\", \"gene2speciesname\": \"Caenorhabditis elegans\", \"gene2speciestaxonid\": \"NCBITaxon:6239\", \"gene2symbol\": \"vps-53\", \"isbestrevscore\": \"Yes\", \"isbestscore\": \"Yes\", \"outofalgorithms\": 9}, {\"algorithms\": \"OrthoFinder|Hieranoid|OMA|Ensembl Compara|InParanoid|PANTHER|TreeFam|OrthoInspector\", \"algorithmsmatch\": 8, \"gene1id\": \"RGD:1311391\", \"gene1speciesname\": \"Rattus norvegicus\", \"gene1speciestaxonid\": \"NCBITaxon:10116\", \"gene1symbol\": \"Vps53\", \"gene2id\": \"MGI:1915549\", \"gene2speciesname\": \"Mus musculus\", \"gene2speciestaxonid\": \"NCBITaxon:10090\", \"gene2symbol\": \"Vps53\", \"isbestrevscore\": \"Yes\", \"isbestscore\": \"Yes\", \"outofalgorithms\": 9}]}]}'\n"
     ]
    }
   ],
   "metadata": {}
  },
  {
   "cell_type": "code",
   "execution_count": 3,
   "source": [
    "# Full id - \"ZDB-GENE-041114-199\"\r\n",
    "test_agr_plugin(\"ZDB-GENE-041114-199\")"
   ],
   "outputs": [
    {
     "output_type": "stream",
     "name": "stdout",
     "text": [
      "\n",
      "[INFO] query: http://localhost:8000/query?q=ZDB-GENE-041114-199 \n",
      " b'{\"took\": 2, \"total\": 18614, \"max_score\": 26.043224, \"hits\": [{\"_id\": \"ZDB-GENE-041114-199\", \"_score\": 26.043224, \"ortholog_info\": [{\"algorithms\": \"OrthoFinder|Hieranoid|OMA|Ensembl Compara|Roundup|InParanoid|PANTHER|OrthoInspector\", \"algorithmsmatch\": 8, \"gene1id\": \"ZFIN:ZDB-GENE-041114-199\", \"gene1speciesname\": \"Danio rerio\", \"gene1speciestaxonid\": \"NCBITaxon:7955\", \"gene1symbol\": \"vps53\", \"gene2id\": \"SGD:S000003566\", \"gene2speciesname\": \"Saccharomyces cerevisiae\", \"gene2speciestaxonid\": \"NCBITaxon:559292\", \"gene2symbol\": \"VPS53\", \"isbestrevscore\": \"Yes\", \"isbestscore\": \"Yes\", \"outofalgorithms\": 10}, {\"algorithms\": \"OrthoFinder|Hieranoid|OMA|Ensembl Compara|Roundup|InParanoid|PANTHER|TreeFam|OrthoInspector\", \"algorithmsmatch\": 9, \"gene1id\": \"ZFIN:ZDB-GENE-041114-199\", \"gene1speciesname\": \"Danio rerio\", \"gene1speciestaxonid\": \"NCBITaxon:7955\", \"gene1symbol\": \"vps53\", \"gene2id\": \"FB:FBgn0031598\", \"gene2speciesname\": \"Drosophila melanogaster\", \"gene2speciestaxonid\": \"NCBITaxon:7227\", \"gene2symbol\": \"Vps53\", \"isbestrevscore\": \"Yes\", \"isbestscore\": \"Yes\", \"outofalgorithms\": 11}, {\"algorithms\": \"OrthoFinder|Hieranoid|OMA|Ensembl Compara|InParanoid|PANTHER|TreeFam|OrthoInspector\", \"algorithmsmatch\": 8, \"gene1id\": \"ZFIN:ZDB-GENE-041114-199\", \"gene1speciesname\": \"Danio rerio\", \"gene1speciestaxonid\": \"NCBITaxon:7955\", \"gene1symbol\": \"vps53\", \"gene2id\": \"RGD:1311391\", \"gene2speciesname\": \"Rattus norvegicus\", \"gene2speciestaxonid\": \"NCBITaxon:10116\", \"gene2symbol\": \"Vps53\", \"isbestrevscore\": \"Yes\", \"isbestscore\": \"Yes\", \"outofalgorithms\": 9}, {\"algorithms\": \"OrthoFinder|ZFIN|Hieranoid|OMA|Ensembl Compara|Roundup|InParanoid|PANTHER|TreeFam|OrthoInspector\", \"algorithmsmatch\": 10, \"gene1id\": \"ZFIN:ZDB-GENE-041114-199\", \"gene1speciesname\": \"Danio rerio\", \"gene1speciestaxonid\": \"NCBITaxon:7955\", \"gene1symbol\": \"vps53\", \"gene2id\": \"HGNC:25608\", \"gene2speciesname\": \"Homo sapiens\", \"gene2speciestaxonid\": \"NCBITaxon:9606\", \"gene2symbol\": \"VPS53\", \"isbestrevscore\": \"Yes\", \"isbestscore\": \"Yes\", \"outofalgorithms\": 11}, {\"algorithms\": \"OrthoFinder|Hieranoid|OMA|Ensembl Compara|Roundup|InParanoid|PANTHER|OrthoInspector\", \"algorithmsmatch\": 8, \"gene1id\": \"ZFIN:ZDB-GENE-041114-199\", \"gene1speciesname\": \"Danio rerio\", \"gene1speciestaxonid\": \"NCBITaxon:7955\", \"gene1symbol\": \"vps53\", \"gene2id\": \"WB:WBGene00011502\", \"gene2speciesname\": \"Caenorhabditis elegans\", \"gene2speciestaxonid\": \"NCBITaxon:6239\", \"gene2symbol\": \"vps-53\", \"isbestrevscore\": \"Yes\", \"isbestscore\": \"Yes\", \"outofalgorithms\": 10}, {\"algorithms\": \"OrthoFinder|ZFIN|Hieranoid|OMA|Ensembl Compara|Roundup|InParanoid|PANTHER|TreeFam|OrthoInspector\", \"algorithmsmatch\": 10, \"gene1id\": \"ZFIN:ZDB-GENE-041114-199\", \"gene1speciesname\": \"Danio rerio\", \"gene1speciestaxonid\": \"NCBITaxon:7955\", \"gene1symbol\": \"vps53\", \"gene2id\": \"MGI:1915549\", \"gene2speciesname\": \"Mus musculus\", \"gene2speciestaxonid\": \"NCBITaxon:10090\", \"gene2symbol\": \"Vps53\", \"isbestrevscore\": \"Yes\", \"isbestscore\": \"Yes\", \"outofalgorithms\": 11}]}, {\"_id\": \"ZDB-GENE-050417-199\", \"_score\": 16.897535, \"ortholog_info\": [{\"algorithms\": \"PhylomeDB|OrthoFinder|Hieranoid|OMA|Ensembl Compara|InParanoid|PANTHER|TreeFam|OrthoInspector\", \"algorithmsmatch\": 9, \"gene1id\": \"ZFIN:ZDB-GENE-050417-199\", \"gene1speciesname\": \"Danio rerio\", \"gene1speciestaxonid\": \"NCBITaxon:7955\", \"gene1symbol\": \"srd5a2a\", \"gene2id\": \"RGD:621480\", \"gene2speciesname\": \"Rattus norvegicus\", \"gene2speciestaxonid\": \"NCBITaxon:10116\", \"gene2symbol\": \"Srd5a2\", \"isbestrevscore\": \"Yes\", \"isbestscore\": \"Yes\", \"outofalgorithms\": 9}, {\"algorithms\": \"PhylomeDB|OrthoFinder|ZFIN|Hieranoid|OMA|Ensembl Compara|Roundup|InParanoid|PANTHER|OrthoInspector\", \"algorithmsmatch\": 10, \"gene1id\": \"ZFIN:ZDB-GENE-050417-199\", \"gene1speciesname\": \"Danio rerio\", \"gene1speciestaxonid\": \"NCBITaxon:7955\", \"gene1symbol\": \"srd5a2a\", \"gene2id\": \"HGNC:11285\", \"gene2speciesname\": \"Homo sapiens\", \"gene2speciestaxonid\": \"NCBITaxon:9606\", \"gene2symbol\": \"SRD5A2\", \"isbestrevscore\": \"Yes\", \"isbestscore\": \"Yes\", \"outofalgorithms\": 11}, {\"algorithms\": \"PhylomeDB|OrthoFinder|Hieranoid|OMA|Ensembl Compara|Roundup|InParanoid|PANTHER|TreeFam|OrthoInspector\", \"algorithmsmatch\": 10, \"gene1id\": \"ZFIN:ZDB-GENE-050417-199\", \"gene1speciesname\": \"Danio rerio\", \"gene1speciestaxonid\": \"NCBITaxon:7955\", \"gene1symbol\": \"srd5a2a\", \"gene2id\": \"WB:WBGene00008959\", \"gene2speciesname\": \"Caenorhabditis elegans\", \"gene2speciestaxonid\": \"NCBITaxon:6239\", \"gene2symbol\": \"F19H6.4\", \"isbestrevscore\": \"Yes\", \"isbestscore\": \"Yes\", \"outofalgorithms\": 10}, {\"algorithms\": \"PhylomeDB|OrthoFinder|Hieranoid|OMA|Ensembl Compara|Roundup|InParanoid|PANTHER|TreeFam|OrthoInspector\", \"algorithmsmatch\": 10, \"gene1id\": \"ZFIN:ZDB-GENE-050417-199\", \"gene1speciesname\": \"Danio rerio\", \"gene1speciestaxonid\": \"NCBITaxon:7955\", \"gene1symbol\": \"srd5a2a\", \"gene2id\": \"WB:WBGene00009635\", \"gene2speciesname\": \"Caenorhabditis elegans\", \"gene2speciestaxonid\": \"NCBITaxon:6239\", \"gene2symbol\": \"F42F12.3\", \"isbestrevscore\": \"Yes\", \"isbestscore\": \"Yes\", \"outofalgorithms\": 10}, {\"algorithms\": \"PhylomeDB|OrthoFinder|OMA|PANTHER|TreeFam|OrthoInspector\", \"algorithmsmatch\": 6, \"gene1id\": \"ZFIN:ZDB-GENE-050417-199\", \"gene1speciesname\": \"Danio rerio\", \"gene1speciestaxonid\": \"NCBITaxon:7955\", \"gene1symbol\": \"srd5a2a\", \"gene2id\": \"WB:WBGene00014241\", \"gene2speciesname\": \"Caenorhabditis elegans\", \"gene2speciestaxonid\": \"NCBITaxon:6239\", \"gene2symbol\": \"ZK1251.3\", \"isbestrevscore\": \"Yes\", \"isbestscore\": \"No\", \"outofalgorithms\": 10}, {\"algorithms\": \"PhylomeDB|OrthoFinder|ZFIN|Hieranoid|OMA|Ensembl Compara|Roundup|InParanoid|PANTHER|TreeFam|OrthoInspector\", \"algorithmsmatch\": 11, \"gene1id\": \"ZFIN:ZDB-GENE-050417-199\", \"gene1speciesname\": \"Danio rerio\", \"gene1speciestaxonid\": \"NCBITaxon:7955\", \"gene1symbol\": \"srd5a2a\", \"gene2id\": \"MGI:2150380\", \"gene2speciesname\": \"Mus musculus\", \"gene2speciestaxonid\": \"NCBITaxon:10090\", \"gene2symbol\": \"Srd5a2\", \"isbestrevscore\": \"Yes\", \"isbestscore\": \"Yes\", \"outofalgorithms\": 11}]}, {\"_id\": \"ZDB-GENE-081104-199\", \"_score\": 16.241058, \"ortholog_info\": [{\"algorithms\": \"OrthoFinder|Hieranoid|OMA|Ensembl Compara|InParanoid|PANTHER|TreeFam|OrthoInspector\", \"algorithmsmatch\": 8, \"gene1id\": \"ZFIN:ZDB-GENE-081104-199\", \"gene1speciesname\": \"Danio rerio\", \"gene1speciestaxonid\": \"NCBITaxon:7955\", \"gene1symbol\": \"rnf216\", \"gene2id\": \"RGD:1565135\", \"gene2speciesname\": \"Rattus norvegicus\", \"gene2speciestaxonid\": \"NCBITaxon:10116\", \"gene2symbol\": \"Rnf216\", \"isbestrevscore\": \"Yes\", \"isbestscore\": \"Yes\", \"outofalgorithms\": 9}, {\"algorithms\": \"PhylomeDB|OrthoFinder|ZFIN|Hieranoid|OMA|Ensembl Compara|Roundup|InParanoid|PANTHER|TreeFam|OrthoInspector\", \"algorithmsmatch\": 11, \"gene1id\": \"ZFIN:ZDB-GENE-081104-199\", \"gene1speciesname\": \"Danio rerio\", \"gene1speciestaxonid\": \"NCBITaxon:7955\", \"gene1symbol\": \"rnf216\", \"gene2id\": \"HGNC:21698\", \"gene2speciesname\": \"Homo sapiens\", \"gene2speciestaxonid\": \"NCBITaxon:9606\", \"gene2symbol\": \"RNF216\", \"isbestrevscore\": \"Yes\", \"isbestscore\": \"Yes\", \"outofalgorithms\": 11}, {\"algorithms\": \"PhylomeDB|OrthoFinder|ZFIN|Hieranoid|OMA|Ensembl Compara|Roundup|InParanoid|PANTHER|TreeFam|OrthoInspector\", \"algorithmsmatch\": 11, \"gene1id\": \"ZFIN:ZDB-GENE-081104-199\", \"gene1speciesname\": \"Danio rerio\", \"gene1speciestaxonid\": \"NCBITaxon:7955\", \"gene1symbol\": \"rnf216\", \"gene2id\": \"MGI:1344349\", \"gene2speciesname\": \"Mus musculus\", \"gene2speciestaxonid\": \"NCBITaxon:10090\", \"gene2symbol\": \"Rnf216\", \"isbestrevscore\": \"Yes\", \"isbestscore\": \"Yes\", \"outofalgorithms\": 11}]}, {\"_id\": \"ZDB-GENE-040718-199\", \"_score\": 16.181412, \"ortholog_info\": [{\"algorithms\": \"PhylomeDB|OrthoFinder|Hieranoid|Ensembl Compara|Roundup|PANTHER|TreeFam\", \"algorithmsmatch\": 7, \"gene1id\": \"ZFIN:ZDB-GENE-040718-199\", \"gene1speciesname\": \"Danio rerio\", \"gene1speciestaxonid\": \"NCBITaxon:7955\", \"gene1symbol\": \"uqcrq\", \"gene2id\": \"SGD:S000003702\", \"gene2speciesname\": \"Saccharomyces cerevisiae\", \"gene2speciestaxonid\": \"NCBITaxon:559292\", \"gene2symbol\": \"QCR8\", \"isbestrevscore\": \"Yes\", \"isbestscore\": \"Yes\", \"outofalgorithms\": 10}, {\"algorithms\": \"PhylomeDB|OrthoFinder|Hieranoid|OMA|Ensembl Compara|Roundup|InParanoid|PANTHER|TreeFam|OrthoInspector\", \"algorithmsmatch\": 10, \"gene1id\": \"ZFIN:ZDB-GENE-040718-199\", \"gene1speciesname\": \"Danio rerio\", \"gene1speciestaxonid\": \"NCBITaxon:7955\", \"gene1symbol\": \"uqcrq\", \"gene2id\": \"FB:FBgn0036728\", \"gene2speciesname\": \"Drosophila melanogaster\", \"gene2speciestaxonid\": \"NCBITaxon:7227\", \"gene2symbol\": \"UQCR-Q\", \"isbestrevscore\": \"Yes\", \"isbestscore\": \"Yes\", \"outofalgorithms\": 11}, {\"algorithms\": \"PhylomeDB|OrthoFinder|Hieranoid|OMA|Ensembl Compara|InParanoid|PANTHER|OrthoInspector\", \"algorithmsmatch\": 8, \"gene1id\": \"ZFIN:ZDB-GENE-040718-199\", \"gene1speciesname\": \"Danio rerio\", \"gene1speciestaxonid\": \"NCBITaxon:7955\", \"gene1symbol\": \"uqcrq\", \"gene2id\": \"RGD:1562350\", \"gene2speciesname\": \"Rattus norvegicus\", \"gene2speciestaxonid\": \"NCBITaxon:10116\", \"gene2symbol\": \"Uqcrq\", \"isbestrevscore\": \"Yes\", \"isbestscore\": \"Yes\", \"outofalgorithms\": 9}, {\"algorithms\": \"PhylomeDB|OrthoFinder|ZFIN|Hieranoid|OMA|Ensembl Compara|Roundup|InParanoid|PANTHER|TreeFam|OrthoInspector\", \"algorithmsmatch\": 11, \"gene1id\": \"ZFIN:ZDB-GENE-040718-199\", \"gene1speciesname\": \"Danio rerio\", \"gene1speciestaxonid\": \"NCBITaxon:7955\", \"gene1symbol\": \"uqcrq\", \"gene2id\": \"HGNC:29594\", \"gene2speciesname\": \"Homo sapiens\", \"gene2speciestaxonid\": \"NCBITaxon:9606\", \"gene2symbol\": \"UQCRQ\", \"isbestrevscore\": \"Yes\", \"isbestscore\": \"Yes\", \"outofalgorithms\": 11}, {\"algorithms\": \"PhylomeDB|OrthoFinder|Hieranoid|OMA|Ensembl Compara|Roundup|InParanoid|PANTHER|OrthoInspector\", \"algorithmsmatch\": 9, \"gene1id\": \"ZFIN:ZDB-GENE-040718-199\", \"gene1speciesname\": \"Danio rerio\", \"gene1speciestaxonid\": \"NCBITaxon:7955\", \"gene1symbol\": \"uqcrq\", \"gene2id\": \"WB:WBGene00009739\", \"gene2speciesname\": \"Caenorhabditis elegans\", \"gene2speciestaxonid\": \"NCBITaxon:6239\", \"gene2symbol\": \"F45H10.2\", \"isbestrevscore\": \"Yes\", \"isbestscore\": \"No\", \"outofalgorithms\": 10}, {\"algorithms\": \"PhylomeDB|OrthoFinder|Hieranoid|OMA|Ensembl Compara|Roundup|InParanoid|PANTHER|TreeFam|OrthoInspector\", \"algorithmsmatch\": 10, \"gene1id\": \"ZFIN:ZDB-GENE-040718-199\", \"gene1speciesname\": \"Danio rerio\", \"gene1speciestaxonid\": \"NCBITaxon:7955\", \"gene1symbol\": \"uqcrq\", \"gene2id\": \"WB:WBGene00019937\", \"gene2speciesname\": \"Caenorhabditis elegans\", \"gene2speciestaxonid\": \"NCBITaxon:6239\", \"gene2symbol\": \"R07E4.3\", \"isbestrevscore\": \"Yes\", \"isbestscore\": \"Yes\", \"outofalgorithms\": 10}, {\"algorithms\": \"PhylomeDB|OrthoFinder|Hieranoid|OMA|Ensembl Compara|Roundup|InParanoid|PANTHER|TreeFam|OrthoInspector\", \"algorithmsmatch\": 10, \"gene1id\": \"ZFIN:ZDB-GENE-040718-199\", \"gene1speciesname\": \"Danio rerio\", \"gene1speciestaxonid\": \"NCBITaxon:7955\", \"gene1symbol\": \"uqcrq\", \"gene2id\": \"MGI:107807\", \"gene2speciesname\": \"Mus musculus\", \"gene2speciestaxonid\": \"NCBITaxon:10090\", \"gene2symbol\": \"Uqcrq\", \"isbestrevscore\": \"Yes\", \"isbestscore\": \"Yes\", \"outofalgorithms\": 11}]}, {\"_id\": \"ZDB-GENE-090312-199\", \"_score\": 16.087263, \"ortholog_info\": [{\"algorithms\": \"OrthoFinder|Hieranoid|OMA|Ensembl Compara|Roundup|InParanoid|PANTHER|TreeFam|OrthoInspector\", \"algorithmsmatch\": 9, \"gene1id\": \"ZFIN:ZDB-GENE-090312-199\", \"gene1speciesname\": \"Danio rerio\", \"gene1speciestaxonid\": \"NCBITaxon:7955\", \"gene1symbol\": \"ndst3\", \"gene2id\": \"FB:FBgn0020251\", \"gene2speciesname\": \"Drosophila melanogaster\", \"gene2speciestaxonid\": \"NCBITaxon:7227\", \"gene2symbol\": \"sfl\", \"isbestrevscore\": \"No\", \"isbestscore\": \"Yes\", \"outofalgorithms\": 11}, {\"algorithms\": \"OrthoFinder|OMA|InParanoid|PANTHER|TreeFam|OrthoInspector\", \"algorithmsmatch\": 6, \"gene1id\": \"ZFIN:ZDB-GENE-090312-199\", \"gene1speciesname\": \"Danio rerio\", \"gene1speciestaxonid\": \"NCBITaxon:7955\", \"gene1symbol\": \"ndst3\", \"gene2id\": \"RGD:1310960\", \"gene2speciesname\": \"Rattus norvegicus\", \"gene2speciestaxonid\": \"NCBITaxon:10116\", \"gene2symbol\": \"Ndst3\", \"isbestrevscore\": \"Yes\", \"isbestscore\": \"No\", \"outofalgorithms\": 9}, {\"algorithms\": \"OrthoFinder|Hieranoid|OMA|Ensembl Compara|InParanoid|PANTHER|TreeFam|OrthoInspector\", \"algorithmsmatch\": 8, \"gene1id\": \"ZFIN:ZDB-GENE-090312-199\", \"gene1speciesname\": \"Danio rerio\", \"gene1speciestaxonid\": \"NCBITaxon:7955\", \"gene1symbol\": \"ndst3\", \"gene2id\": \"RGD:1306531\", \"gene2speciesname\": \"Rattus norvegicus\", \"gene2speciestaxonid\": \"NCBITaxon:10116\", \"gene2symbol\": \"Ndst4\", \"isbestrevscore\": \"Yes\", \"isbestscore\": \"Yes\", \"outofalgorithms\": 9}, {\"algorithms\": \"OrthoFinder|ZFIN|OMA|InParanoid|PANTHER|TreeFam|OrthoInspector\", \"algorithmsmatch\": 7, \"gene1id\": \"ZFIN:ZDB-GENE-090312-199\", \"gene1speciesname\": \"Danio rerio\", \"gene1speciestaxonid\": \"NCBITaxon:7955\", \"gene1symbol\": \"ndst3\", \"gene2id\": \"HGNC:7682\", \"gene2speciesname\": \"Homo sapiens\", \"gene2speciestaxonid\": \"NCBITaxon:9606\", \"gene2symbol\": \"NDST3\", \"isbestrevscore\": \"Yes\", \"isbestscore\": \"No\", \"outofalgorithms\": 11}, {\"algorithms\": \"OrthoFinder|Hieranoid|OMA|Ensembl Compara|Roundup|InParanoid|PANTHER|TreeFam|OrthoInspector\", \"algorithmsmatch\": 9, \"gene1id\": \"ZFIN:ZDB-GENE-090312-199\", \"gene1speciesname\": \"Danio rerio\", \"gene1speciestaxonid\": \"NCBITaxon:7955\", \"gene1symbol\": \"ndst3\", \"gene2id\": \"HGNC:20779\", \"gene2speciesname\": \"Homo sapiens\", \"gene2speciestaxonid\": \"NCBITaxon:9606\", \"gene2symbol\": \"NDST4\", \"isbestrevscore\": \"Yes\", \"isbestscore\": \"Yes\", \"outofalgorithms\": 11}, {\"algorithms\": \"OrthoFinder|Hieranoid|OMA|Ensembl Compara|Roundup|InParanoid|PANTHER|TreeFam|OrthoInspector\", \"algorithmsmatch\": 9, \"gene1id\": \"ZFIN:ZDB-GENE-090312-199\", \"gene1speciesname\": \"Danio rerio\", \"gene1speciestaxonid\": \"NCBITaxon:7955\", \"gene1symbol\": \"ndst3\", \"gene2id\": \"WB:WBGene00002028\", \"gene2speciesname\": \"Caenorhabditis elegans\", \"gene2speciestaxonid\": \"NCBITaxon:6239\", \"gene2symbol\": \"hst-1\", \"isbestrevscore\": \"No\", \"isbestscore\": \"Yes\", \"outofalgorithms\": 10}, {\"algorithms\": \"OrthoFinder|ZFIN|OMA|InParanoid|PANTHER|TreeFam|OrthoInspector\", \"algorithmsmatch\": 7, \"gene1id\": \"ZFIN:ZDB-GENE-090312-199\", \"gene1speciesname\": \"Danio rerio\", \"gene1speciestaxonid\": \"NCBITaxon:7955\", \"gene1symbol\": \"ndst3\", \"gene2id\": \"MGI:1932544\", \"gene2speciesname\": \"Mus musculus\", \"gene2speciestaxonid\": \"NCBITaxon:10090\", \"gene2symbol\": \"Ndst3\", \"isbestrevscore\": \"Yes\", \"isbestscore\": \"No\", \"outofalgorithms\": 11}, {\"algorithms\": \"OrthoFinder|Hieranoid|OMA|Ensembl Compara|Roundup|InParanoid|PANTHER|TreeFam|OrthoInspector\", \"algorithmsmatch\": 9, \"gene1id\": \"ZFIN:ZDB-GENE-090312-199\", \"gene1speciesname\": \"Danio rerio\", \"gene1speciestaxonid\": \"NCBITaxon:7955\", \"gene1symbol\": \"ndst3\", \"gene2id\": \"MGI:1932545\", \"gene2speciesname\": \"Mus musculus\", \"gene2speciestaxonid\": \"NCBITaxon:10090\", \"gene2symbol\": \"Ndst4\", \"isbestrevscore\": \"Yes\", \"isbestscore\": \"Yes\", \"outofalgorithms\": 11}]}, {\"_id\": \"ZDB-GENE-990415-199\", \"_score\": 16.056421, \"ortholog_info\": [{\"algorithms\": \"Hieranoid|PANTHER|OrthoFinder\", \"algorithmsmatch\": 3, \"gene1id\": \"ZFIN:ZDB-GENE-990415-199\", \"gene1speciesname\": \"Danio rerio\", \"gene1speciestaxonid\": \"NCBITaxon:7955\", \"gene1symbol\": \"oprd1a\", \"gene2id\": \"FB:FBgn0036789\", \"gene2speciesname\": \"Drosophila melanogaster\", \"gene2speciestaxonid\": \"NCBITaxon:7227\", \"gene2symbol\": \"AstC-R2\", \"isbestrevscore\": \"No\", \"isbestscore\": \"Yes\", \"outofalgorithms\": 11}, {\"algorithms\": \"Hieranoid|PANTHER|OrthoFinder\", \"algorithmsmatch\": 3, \"gene1id\": \"ZFIN:ZDB-GENE-990415-199\", \"gene1speciesname\": \"Danio rerio\", \"gene1speciestaxonid\": \"NCBITaxon:7955\", \"gene1symbol\": \"oprd1a\", \"gene2id\": \"FB:FBgn0036790\", \"gene2speciesname\": \"Drosophila melanogaster\", \"gene2speciestaxonid\": \"NCBITaxon:7227\", \"gene2symbol\": \"AstC-R1\", \"isbestrevscore\": \"No\", \"isbestscore\": \"Yes\", \"outofalgorithms\": 11}, {\"algorithms\": \"PhylomeDB|OrthoFinder|Hieranoid|OMA|Ensembl Compara|InParanoid|PANTHER|TreeFam|OrthoInspector\", \"algorithmsmatch\": 9, \"gene1id\": \"ZFIN:ZDB-GENE-990415-199\", \"gene1speciesname\": \"Danio rerio\", \"gene1speciestaxonid\": \"NCBITaxon:7955\", \"gene1symbol\": \"oprd1a\", \"gene2id\": \"RGD:3233\", \"gene2speciesname\": \"Rattus norvegicus\", \"gene2speciestaxonid\": \"NCBITaxon:10116\", \"gene2symbol\": \"Oprd1\", \"isbestrevscore\": \"Yes\", \"isbestscore\": \"Yes\", \"outofalgorithms\": 9}, {\"algorithms\": \"PhylomeDB|OrthoFinder|ZFIN|Hieranoid|OMA|Ensembl Compara|Roundup|InParanoid|PANTHER|TreeFam|OrthoInspector\", \"algorithmsmatch\": 11, \"gene1id\": \"ZFIN:ZDB-GENE-990415-199\", \"gene1speciesname\": \"Danio rerio\", \"gene1speciestaxonid\": \"NCBITaxon:7955\", \"gene1symbol\": \"oprd1a\", \"gene2id\": \"HGNC:8153\", \"gene2speciesname\": \"Homo sapiens\", \"gene2speciestaxonid\": \"NCBITaxon:9606\", \"gene2symbol\": \"OPRD1\", \"isbestrevscore\": \"Yes\", \"isbestscore\": \"Yes\", \"outofalgorithms\": 11}, {\"algorithms\": \"PANTHER|InParanoid|Hieranoid|PhylomeDB\", \"algorithmsmatch\": 4, \"gene1id\": \"ZFIN:ZDB-GENE-990415-199\", \"gene1speciesname\": \"Danio rerio\", \"gene1speciestaxonid\": \"NCBITaxon:7955\", \"gene1symbol\": \"oprd1a\", \"gene2id\": \"WB:WBGene00020086\", \"gene2speciesname\": \"Caenorhabditis elegans\", \"gene2speciestaxonid\": \"NCBITaxon:6239\", \"gene2symbol\": \"npr-24\", \"isbestrevscore\": \"No\", \"isbestscore\": \"Yes\", \"outofalgorithms\": 10}, {\"algorithms\": \"PhylomeDB|OrthoFinder|ZFIN|Hieranoid|OMA|Ensembl Compara|Roundup|InParanoid|PANTHER|TreeFam|OrthoInspector\", \"algorithmsmatch\": 11, \"gene1id\": \"ZFIN:ZDB-GENE-990415-199\", \"gene1speciesname\": \"Danio rerio\", \"gene1speciestaxonid\": \"NCBITaxon:7955\", \"gene1symbol\": \"oprd1a\", \"gene2id\": \"MGI:97438\", \"gene2speciesname\": \"Mus musculus\", \"gene2speciestaxonid\": \"NCBITaxon:10090\", \"gene2symbol\": \"Oprd1\", \"isbestrevscore\": \"Yes\", \"isbestscore\": \"Yes\", \"outofalgorithms\": 11}]}, {\"_id\": \"ZDB-GENE-061013-199\", \"_score\": 15.869488, \"ortholog_info\": [{\"algorithms\": \"PhylomeDB|OrthoFinder|Hieranoid|Ensembl Compara|Roundup|InParanoid|PANTHER|TreeFam|OrthoInspector\", \"algorithmsmatch\": 9, \"gene1id\": \"ZFIN:ZDB-GENE-061013-199\", \"gene1speciesname\": \"Danio rerio\", \"gene1speciestaxonid\": \"NCBITaxon:7955\", \"gene1symbol\": \"zgc:153119\", \"gene2id\": \"FB:FBgn0053108\", \"gene2speciesname\": \"Drosophila melanogaster\", \"gene2speciestaxonid\": \"NCBITaxon:7227\", \"gene2symbol\": \"CG33108\", \"isbestrevscore\": \"Yes\", \"isbestscore\": \"Yes\", \"outofalgorithms\": 11}, {\"algorithms\": \"OrthoFinder|Hieranoid|OMA|Ensembl Compara|InParanoid|PANTHER|OrthoInspector\", \"algorithmsmatch\": 7, \"gene1id\": \"ZFIN:ZDB-GENE-061013-199\", \"gene1speciesname\": \"Danio rerio\", \"gene1speciestaxonid\": \"NCBITaxon:7955\", \"gene1symbol\": \"zgc:153119\", \"gene2id\": \"RGD:1560854\", \"gene2speciesname\": \"Rattus norvegicus\", \"gene2speciestaxonid\": \"NCBITaxon:10116\", \"gene2symbol\": \"RGD1560854\", \"isbestrevscore\": \"Yes\", \"isbestscore\": \"Yes\", \"outofalgorithms\": 9}, {\"algorithms\": \"PhylomeDB|OrthoFinder|ZFIN|Hieranoid|OMA|Ensembl Compara|Roundup|InParanoid|PANTHER|TreeFam|OrthoInspector\", \"algorithmsmatch\": 11, \"gene1id\": \"ZFIN:ZDB-GENE-061013-199\", \"gene1speciesname\": \"Danio rerio\", \"gene1speciestaxonid\": \"NCBITaxon:7955\", \"gene1symbol\": \"zgc:153119\", \"gene2id\": \"HGNC:24758\", \"gene2speciesname\": \"Homo sapiens\", \"gene2speciestaxonid\": \"NCBITaxon:9606\", \"gene2symbol\": \"C19orf54\", \"isbestrevscore\": \"Yes\", \"isbestscore\": \"Yes\", \"outofalgorithms\": 11}, {\"algorithms\": \"PhylomeDB|OrthoFinder|Hieranoid|Ensembl Compara|Roundup|InParanoid|PANTHER|TreeFam|OrthoInspector\", \"algorithmsmatch\": 9, \"gene1id\": \"ZFIN:ZDB-GENE-061013-199\", \"gene1speciesname\": \"Danio rerio\", \"gene1speciestaxonid\": \"NCBITaxon:7955\", \"gene1symbol\": \"zgc:153119\", \"gene2id\": \"WB:WBGene00010610\", \"gene2speciesname\": \"Caenorhabditis elegans\", \"gene2speciestaxonid\": \"NCBITaxon:6239\", \"gene2symbol\": \"K07A1.3\", \"isbestrevscore\": \"Yes\", \"isbestscore\": \"Yes\", \"outofalgorithms\": 10}, {\"algorithms\": \"OrthoFinder|ZFIN|Hieranoid|OMA|Ensembl Compara|Roundup|InParanoid|PANTHER|TreeFam|OrthoInspector\", \"algorithmsmatch\": 10, \"gene1id\": \"ZFIN:ZDB-GENE-061013-199\", \"gene1speciesname\": \"Danio rerio\", \"gene1speciestaxonid\": \"NCBITaxon:7955\", \"gene1symbol\": \"zgc:153119\", \"gene2id\": \"MGI:3041247\", \"gene2speciesname\": \"Mus musculus\", \"gene2speciestaxonid\": \"NCBITaxon:10090\", \"gene2symbol\": \"BC024978\", \"isbestrevscore\": \"Yes\", \"isbestscore\": \"Yes\", \"outofalgorithms\": 11}]}, {\"_id\": \"ZDB-GENE-041001-199\", \"_score\": 15.806537, \"ortholog_info\": [{\"algorithms\": \"Roundup|PhylomeDB|TreeFam\", \"algorithmsmatch\": 3, \"gene1id\": \"ZFIN:ZDB-GENE-041001-199\", \"gene1speciesname\": \"Danio rerio\", \"gene1speciestaxonid\": \"NCBITaxon:7955\", \"gene1symbol\": \"adam17b\", \"gene2id\": \"FB:FBgn0039734\", \"gene2speciesname\": \"Drosophila melanogaster\", \"gene2speciestaxonid\": \"NCBITaxon:7227\", \"gene2symbol\": \"Tace\", \"isbestrevscore\": \"No\", \"isbestscore\": \"Yes\", \"outofalgorithms\": 11}, {\"algorithms\": \"ZFIN|Roundup|PhylomeDB|TreeFam\", \"algorithmsmatch\": 4, \"gene1id\": \"ZFIN:ZDB-GENE-041001-199\", \"gene1speciesname\": \"Danio rerio\", \"gene1speciestaxonid\": \"NCBITaxon:7955\", \"gene1symbol\": \"adam17b\", \"gene2id\": \"HGNC:195\", \"gene2speciesname\": \"Homo sapiens\", \"gene2speciestaxonid\": \"NCBITaxon:9606\", \"gene2symbol\": \"ADAM17\", \"isbestrevscore\": \"No\", \"isbestscore\": \"Yes\", \"outofalgorithms\": 11}, {\"algorithms\": \"Roundup|PhylomeDB|TreeFam\", \"algorithmsmatch\": 3, \"gene1id\": \"ZFIN:ZDB-GENE-041001-199\", \"gene1speciesname\": \"Danio rerio\", \"gene1speciestaxonid\": \"NCBITaxon:7955\", \"gene1symbol\": \"adam17b\", \"gene2id\": \"WB:WBGene00000075\", \"gene2speciesname\": \"Caenorhabditis elegans\", \"gene2speciestaxonid\": \"NCBITaxon:6239\", \"gene2symbol\": \"adm-4\", \"isbestrevscore\": \"No\", \"isbestscore\": \"Yes\", \"outofalgorithms\": 10}, {\"algorithms\": \"ZFIN|Roundup|PhylomeDB|TreeFam\", \"algorithmsmatch\": 4, \"gene1id\": \"ZFIN:ZDB-GENE-041001-199\", \"gene1speciesname\": \"Danio rerio\", \"gene1speciestaxonid\": \"NCBITaxon:7955\", \"gene1symbol\": \"adam17b\", \"gene2id\": \"MGI:1096335\", \"gene2speciesname\": \"Mus musculus\", \"gene2speciestaxonid\": \"NCBITaxon:10090\", \"gene2symbol\": \"Adam17\", \"isbestrevscore\": \"No\", \"isbestscore\": \"Yes\", \"outofalgorithms\": 11}]}, {\"_id\": \"ZDB-GENE-060526-199\", \"_score\": 15.489105, \"ortholog_info\": [{\"algorithms\": \"PhylomeDB|OrthoFinder|Hieranoid|OMA|Ensembl Compara|InParanoid|PANTHER|OrthoInspector\", \"algorithmsmatch\": 8, \"gene1id\": \"ZFIN:ZDB-GENE-060526-199\", \"gene1speciesname\": \"Danio rerio\", \"gene1speciestaxonid\": \"NCBITaxon:7955\", \"gene1symbol\": \"tpcn1\", \"gene2id\": \"RGD:708494\", \"gene2speciesname\": \"Rattus norvegicus\", \"gene2speciestaxonid\": \"NCBITaxon:10116\", \"gene2symbol\": \"Tpcn1\", \"isbestrevscore\": \"Yes\", \"isbestscore\": \"Yes\", \"outofalgorithms\": 9}, {\"algorithms\": \"PhylomeDB|OrthoFinder|ZFIN|Hieranoid|OMA|Ensembl Compara|InParanoid|PANTHER|TreeFam|OrthoInspector\", \"algorithmsmatch\": 10, \"gene1id\": \"ZFIN:ZDB-GENE-060526-199\", \"gene1speciesname\": \"Danio rerio\", \"gene1speciestaxonid\": \"NCBITaxon:7955\", \"gene1symbol\": \"tpcn1\", \"gene2id\": \"HGNC:18182\", \"gene2speciesname\": \"Homo sapiens\", \"gene2speciestaxonid\": \"NCBITaxon:9606\", \"gene2symbol\": \"TPCN1\", \"isbestrevscore\": \"Yes\", \"isbestscore\": \"Yes\", \"outofalgorithms\": 11}, {\"algorithms\": \"PhylomeDB|OrthoFinder|ZFIN|Hieranoid|OMA|Ensembl Compara|InParanoid|PANTHER|TreeFam|OrthoInspector\", \"algorithmsmatch\": 10, \"gene1id\": \"ZFIN:ZDB-GENE-060526-199\", \"gene1speciesname\": \"Danio rerio\", \"gene1speciestaxonid\": \"NCBITaxon:7955\", \"gene1symbol\": \"tpcn1\", \"gene2id\": \"MGI:2182472\", \"gene2speciesname\": \"Mus musculus\", \"gene2speciestaxonid\": \"NCBITaxon:10090\", \"gene2symbol\": \"Tpcn1\", \"isbestrevscore\": \"Yes\", \"isbestscore\": \"Yes\", \"outofalgorithms\": 11}]}, {\"_id\": \"199\", \"_score\": 15.162391, \"ortholog_info\": [{\"algorithms\": \"InParanoid|PANTHER|OMA\", \"algorithmsmatch\": 3, \"gene1id\": \"HGNC:199\", \"gene1speciesname\": \"Homo sapiens\", \"gene1speciestaxonid\": \"NCBITaxon:9606\", \"gene1symbol\": \"ADAM20\", \"gene2id\": \"RGD:1309066\", \"gene2speciesname\": \"Rattus norvegicus\", \"gene2speciestaxonid\": \"NCBITaxon:10116\", \"gene2symbol\": \"Adam24\", \"isbestrevscore\": \"Yes\", \"isbestscore\": \"No\", \"outofalgorithms\": 10}, {\"algorithms\": \"Ensembl Compara|InParanoid|PANTHER|OMA\", \"algorithmsmatch\": 4, \"gene1id\": \"HGNC:199\", \"gene1speciesname\": \"Homo sapiens\", \"gene1speciestaxonid\": \"NCBITaxon:9606\", \"gene1symbol\": \"ADAM20\", \"gene2id\": \"RGD:6495615\", \"gene2speciesname\": \"Rattus norvegicus\", \"gene2speciestaxonid\": \"NCBITaxon:10116\", \"gene2symbol\": \"LOC100910977\", \"isbestrevscore\": \"Yes\", \"isbestscore\": \"Yes\", \"outofalgorithms\": 10}, {\"algorithms\": \"PANTHER|PhylomeDB|OrthoInspector\", \"algorithmsmatch\": 3, \"gene1id\": \"HGNC:199\", \"gene1speciesname\": \"Homo sapiens\", \"gene1speciestaxonid\": \"NCBITaxon:9606\", \"gene1symbol\": \"ADAM20\", \"gene2id\": \"WB:WBGene00000074\", \"gene2speciesname\": \"Caenorhabditis elegans\", \"gene2speciestaxonid\": \"NCBITaxon:6239\", \"gene2symbol\": \"adm-2\", \"isbestrevscore\": \"No\", \"isbestscore\": \"Yes\", \"outofalgorithms\": 10}, {\"algorithms\": \"Ensembl Compara|PANTHER|OrthoInspector\", \"algorithmsmatch\": 3, \"gene1id\": \"HGNC:199\", \"gene1speciesname\": \"Homo sapiens\", \"gene1speciestaxonid\": \"NCBITaxon:9606\", \"gene1symbol\": \"ADAM20\", \"gene2id\": \"WB:WBGene00006804\", \"gene2speciesname\": \"Caenorhabditis elegans\", \"gene2speciestaxonid\": \"NCBITaxon:6239\", \"gene2symbol\": \"unc-71\", \"isbestrevscore\": \"No\", \"isbestscore\": \"Yes\", \"outofalgorithms\": 10}, {\"algorithms\": \"Ensembl Compara|PANTHER|OMA\", \"algorithmsmatch\": 3, \"gene1id\": \"HGNC:199\", \"gene1speciesname\": \"Homo sapiens\", \"gene1speciestaxonid\": \"NCBITaxon:9606\", \"gene1symbol\": \"ADAM20\", \"gene2id\": \"MGI:1345157\", \"gene2speciesname\": \"Mus musculus\", \"gene2speciestaxonid\": \"NCBITaxon:10090\", \"gene2symbol\": \"Adam25\", \"isbestrevscore\": \"Yes\", \"isbestscore\": \"Yes\", \"outofalgorithms\": 11}, {\"algorithms\": \"Ensembl Compara|PANTHER|OMA\", \"algorithmsmatch\": 3, \"gene1id\": \"HGNC:199\", \"gene1speciesname\": \"Homo sapiens\", \"gene1speciestaxonid\": \"NCBITaxon:9606\", \"gene1symbol\": \"ADAM20\", \"gene2id\": \"MGI:2152342\", \"gene2speciesname\": \"Mus musculus\", \"gene2speciestaxonid\": \"NCBITaxon:10090\", \"gene2symbol\": \"Adam20\", \"isbestrevscore\": \"Yes\", \"isbestscore\": \"Yes\", \"outofalgorithms\": 11}, {\"algorithms\": \"Ensembl Compara|PANTHER|OMA\", \"algorithmsmatch\": 3, \"gene1id\": \"HGNC:199\", \"gene1speciesname\": \"Homo sapiens\", \"gene1speciestaxonid\": \"NCBITaxon:9606\", \"gene1symbol\": \"ADAM20\", \"gene2id\": \"MGI:3045694\", \"gene2speciesname\": \"Mus musculus\", \"gene2speciestaxonid\": \"NCBITaxon:10090\", \"gene2symbol\": \"Adam39\", \"isbestrevscore\": \"Yes\", \"isbestscore\": \"Yes\", \"outofalgorithms\": 11}]}]}'\n"
     ]
    }
   ],
   "metadata": {}
  },
  {
   "cell_type": "markdown",
   "source": [
    "### **Unique Cases**  \r\n",
    "> To produce the results for ids below, we found removing the letters and using a wildcard, i.e. `*0260795`, produced results, but the full id, i.e. `FBgn0260795` did not."
   ],
   "metadata": {}
  },
  {
   "cell_type": "code",
   "execution_count": 4,
   "source": [
    "# Bad Case\r\n",
    "test_agr_plugin(\"FBgn0260795\")"
   ],
   "outputs": [
    {
     "output_type": "stream",
     "name": "stdout",
     "text": [
      "\n",
      "[INFO] query: http://localhost:8000/query?q=FBgn0260795 \n",
      " b'{\"took\": 1, \"total\": 0, \"max_score\": null, \"hits\": []}'\n"
     ]
    }
   ],
   "metadata": {}
  },
  {
   "cell_type": "code",
   "execution_count": 5,
   "source": [
    "# Working case : full id - \"FBgn0260795\" \r\n",
    "test_agr_plugin(\"*0260795\")"
   ],
   "outputs": [
    {
     "output_type": "stream",
     "name": "stdout",
     "text": [
      "\n",
      "[INFO] query: http://localhost:8000/query?q=*0260795 \n",
      " b'{\"took\": 4, \"total\": 1, \"max_score\": 1.0, \"hits\": [{\"_id\": \"FBgn0260795\", \"_score\": 1.0, \"ortholog_info\": [{\"algorithms\": \"PhylomeDB|OrthoFinder|Hieranoid|OMA|Ensembl Compara|Roundup|InParanoid|PANTHER|TreeFam|OrthoInspector\", \"algorithmsmatch\": 10, \"gene1id\": \"FB:FBgn0260795\", \"gene1speciesname\": \"Drosophila melanogaster\", \"gene1speciestaxonid\": \"NCBITaxon:7227\", \"gene1symbol\": \"NaPi-III\", \"gene2id\": \"SGD:S000000500\", \"gene2speciesname\": \"Saccharomyces cerevisiae\", \"gene2speciestaxonid\": \"NCBITaxon:559292\", \"gene2symbol\": \"PHO89\", \"isbestrevscore\": \"Yes\", \"isbestscore\": \"Yes\", \"outofalgorithms\": 10}, {\"algorithms\": \"PhylomeDB|OrthoFinder|Hieranoid|OMA|Ensembl Compara|Roundup|InParanoid|PANTHER|TreeFam|OrthoInspector\", \"algorithmsmatch\": 10, \"gene1id\": \"FB:FBgn0260795\", \"gene1speciesname\": \"Drosophila melanogaster\", \"gene1speciestaxonid\": \"NCBITaxon:7227\", \"gene1symbol\": \"NaPi-III\", \"gene2id\": \"ZFIN:ZDB-GENE-030131-260\", \"gene2speciesname\": \"Danio rerio\", \"gene2speciestaxonid\": \"NCBITaxon:7955\", \"gene2symbol\": \"slc20a1b\", \"isbestrevscore\": \"Yes\", \"isbestscore\": \"Yes\", \"outofalgorithms\": 11}, {\"algorithms\": \"PhylomeDB|OrthoFinder|Hieranoid|OMA|Ensembl Compara|InParanoid|PANTHER|TreeFam|OrthoInspector\", \"algorithmsmatch\": 9, \"gene1id\": \"FB:FBgn0260795\", \"gene1speciesname\": \"Drosophila melanogaster\", \"gene1speciestaxonid\": \"NCBITaxon:7227\", \"gene1symbol\": \"NaPi-III\", \"gene2id\": \"ZFIN:ZDB-GENE-040426-2217\", \"gene2speciesname\": \"Danio rerio\", \"gene2speciestaxonid\": \"NCBITaxon:7955\", \"gene2symbol\": \"slc20a1a\", \"isbestrevscore\": \"Yes\", \"isbestscore\": \"No\", \"outofalgorithms\": 11}, {\"algorithms\": \"PhylomeDB|OrthoFinder|Hieranoid|OMA|Ensembl Compara|Roundup|InParanoid|PANTHER|TreeFam|OrthoInspector\", \"algorithmsmatch\": 10, \"gene1id\": \"FB:FBgn0260795\", \"gene1speciesname\": \"Drosophila melanogaster\", \"gene1speciestaxonid\": \"NCBITaxon:7227\", \"gene1symbol\": \"NaPi-III\", \"gene2id\": \"ZFIN:ZDB-GENE-060929-828\", \"gene2speciesname\": \"Danio rerio\", \"gene2speciestaxonid\": \"NCBITaxon:7955\", \"gene2symbol\": \"slc20a2\", \"isbestrevscore\": \"Yes\", \"isbestscore\": \"Yes\", \"outofalgorithms\": 11}, {\"algorithms\": \"PhylomeDB|OrthoFinder|Hieranoid|OMA|Ensembl Compara|InParanoid|PANTHER|TreeFam|OrthoInspector\", \"algorithmsmatch\": 9, \"gene1id\": \"FB:FBgn0260795\", \"gene1speciesname\": \"Drosophila melanogaster\", \"gene1speciestaxonid\": \"NCBITaxon:7227\", \"gene1symbol\": \"NaPi-III\", \"gene2id\": \"RGD:621079\", \"gene2speciesname\": \"Rattus norvegicus\", \"gene2speciestaxonid\": \"NCBITaxon:10116\", \"gene2symbol\": \"Slc20a1\", \"isbestrevscore\": \"Yes\", \"isbestscore\": \"Yes\", \"outofalgorithms\": 9}, {\"algorithms\": \"PhylomeDB|OrthoFinder|Hieranoid|OMA|Ensembl Compara|InParanoid|PANTHER|TreeFam|OrthoInspector\", \"algorithmsmatch\": 9, \"gene1id\": \"FB:FBgn0260795\", \"gene1speciesname\": \"Drosophila melanogaster\", \"gene1speciestaxonid\": \"NCBITaxon:7227\", \"gene1symbol\": \"NaPi-III\", \"gene2id\": \"RGD:3699\", \"gene2speciesname\": \"Rattus norvegicus\", \"gene2speciestaxonid\": \"NCBITaxon:10116\", \"gene2symbol\": \"Slc20a2\", \"isbestrevscore\": \"Yes\", \"isbestscore\": \"Yes\", \"outofalgorithms\": 9}, {\"algorithms\": \"PhylomeDB|OrthoFinder|Hieranoid|OMA|Ensembl Compara|Roundup|InParanoid|PANTHER|TreeFam|OrthoInspector\", \"algorithmsmatch\": 10, \"gene1id\": \"FB:FBgn0260795\", \"gene1speciesname\": \"Drosophila melanogaster\", \"gene1speciestaxonid\": \"NCBITaxon:7227\", \"gene1symbol\": \"NaPi-III\", \"gene2id\": \"HGNC:10946\", \"gene2speciesname\": \"Homo sapiens\", \"gene2speciestaxonid\": \"NCBITaxon:9606\", \"gene2symbol\": \"SLC20A1\", \"isbestrevscore\": \"Yes\", \"isbestscore\": \"Yes\", \"outofalgorithms\": 10}, {\"algorithms\": \"PhylomeDB|OrthoFinder|Hieranoid|OMA|Ensembl Compara|Roundup|InParanoid|PANTHER|TreeFam|OrthoInspector\", \"algorithmsmatch\": 10, \"gene1id\": \"FB:FBgn0260795\", \"gene1speciesname\": \"Drosophila melanogaster\", \"gene1speciestaxonid\": \"NCBITaxon:7227\", \"gene1symbol\": \"NaPi-III\", \"gene2id\": \"HGNC:10947\", \"gene2speciesname\": \"Homo sapiens\", \"gene2speciestaxonid\": \"NCBITaxon:9606\", \"gene2symbol\": \"SLC20A2\", \"isbestrevscore\": \"Yes\", \"isbestscore\": \"Yes\", \"outofalgorithms\": 10}, {\"algorithms\": \"OrthoFinder|OMA|Ensembl Compara|PANTHER|TreeFam\", \"algorithmsmatch\": 5, \"gene1id\": \"FB:FBgn0260795\", \"gene1speciesname\": \"Drosophila melanogaster\", \"gene1speciestaxonid\": \"NCBITaxon:7227\", \"gene1symbol\": \"NaPi-III\", \"gene2id\": \"WB:WBGene00007141\", \"gene2speciesname\": \"Caenorhabditis elegans\", \"gene2speciestaxonid\": \"NCBITaxon:6239\", \"gene2symbol\": \"pitr-4\", \"isbestrevscore\": \"Yes\", \"isbestscore\": \"No\", \"outofalgorithms\": 10}, {\"algorithms\": \"PhylomeDB|OrthoFinder|OMA|Ensembl Compara|PANTHER|TreeFam|OrthoInspector\", \"algorithmsmatch\": 7, \"gene1id\": \"FB:FBgn0260795\", \"gene1speciesname\": \"Drosophila melanogaster\", \"gene1speciestaxonid\": \"NCBITaxon:7227\", \"gene1symbol\": \"NaPi-III\", \"gene2id\": \"WB:WBGene00012285\", \"gene2speciesname\": \"Caenorhabditis elegans\", \"gene2speciestaxonid\": \"NCBITaxon:6239\", \"gene2symbol\": \"pitr-6\", \"isbestrevscore\": \"Yes\", \"isbestscore\": \"No\", \"outofalgorithms\": 10}, {\"algorithms\": \"PhylomeDB|OrthoFinder|Hieranoid|InParanoid|PANTHER|TreeFam|OrthoInspector\", \"algorithmsmatch\": 7, \"gene1id\": \"FB:FBgn0260795\", \"gene1speciesname\": \"Drosophila melanogaster\", \"gene1speciestaxonid\": \"NCBITaxon:7227\", \"gene1symbol\": \"NaPi-III\", \"gene2id\": \"WB:WBGene00015054\", \"gene2speciesname\": \"Caenorhabditis elegans\", \"gene2speciestaxonid\": \"NCBITaxon:6239\", \"gene2symbol\": \"pitr-2\", \"isbestrevscore\": \"Yes\", \"isbestscore\": \"No\", \"outofalgorithms\": 10}, {\"algorithms\": \"PhylomeDB|OrthoFinder|Hieranoid|OMA|Ensembl Compara|Roundup|InParanoid|PANTHER|TreeFam|OrthoInspector\", \"algorithmsmatch\": 10, \"gene1id\": \"FB:FBgn0260795\", \"gene1speciesname\": \"Drosophila melanogaster\", \"gene1speciestaxonid\": \"NCBITaxon:7227\", \"gene1symbol\": \"NaPi-III\", \"gene2id\": \"WB:WBGene00015055\", \"gene2speciesname\": \"Caenorhabditis elegans\", \"gene2speciestaxonid\": \"NCBITaxon:6239\", \"gene2symbol\": \"pitr-3\", \"isbestrevscore\": \"Yes\", \"isbestscore\": \"Yes\", \"outofalgorithms\": 10}, {\"algorithms\": \"PhylomeDB|OrthoFinder|OMA|Ensembl Compara|Roundup|PANTHER|OrthoInspector\", \"algorithmsmatch\": 7, \"gene1id\": \"FB:FBgn0260795\", \"gene1speciesname\": \"Drosophila melanogaster\", \"gene1speciestaxonid\": \"NCBITaxon:7227\", \"gene1symbol\": \"NaPi-III\", \"gene2id\": \"WB:WBGene00016739\", \"gene2speciesname\": \"Caenorhabditis elegans\", \"gene2speciestaxonid\": \"NCBITaxon:6239\", \"gene2symbol\": \"pitr-1\", \"isbestrevscore\": \"Yes\", \"isbestscore\": \"No\", \"outofalgorithms\": 10}, {\"algorithms\": \"PhylomeDB|OrthoFinder|Hieranoid|OMA|Ensembl Compara|Roundup|InParanoid|PANTHER|TreeFam|OrthoInspector\", \"algorithmsmatch\": 10, \"gene1id\": \"FB:FBgn0260795\", \"gene1speciesname\": \"Drosophila melanogaster\", \"gene1speciestaxonid\": \"NCBITaxon:7227\", \"gene1symbol\": \"NaPi-III\", \"gene2id\": \"WB:WBGene00017312\", \"gene2speciesname\": \"Caenorhabditis elegans\", \"gene2speciestaxonid\": \"NCBITaxon:6239\", \"gene2symbol\": \"pitr-5\", \"isbestrevscore\": \"Yes\", \"isbestscore\": \"Yes\", \"outofalgorithms\": 10}, {\"algorithms\": \"PhylomeDB|OrthoFinder|Hieranoid|OMA|Ensembl Compara|Roundup|InParanoid|PANTHER|TreeFam|OrthoInspector\", \"algorithmsmatch\": 10, \"gene1id\": \"FB:FBgn0260795\", \"gene1speciesname\": \"Drosophila melanogaster\", \"gene1speciestaxonid\": \"NCBITaxon:7227\", \"gene1symbol\": \"NaPi-III\", \"gene2id\": \"MGI:108392\", \"gene2speciesname\": \"Mus musculus\", \"gene2speciestaxonid\": \"NCBITaxon:10090\", \"gene2symbol\": \"Slc20a1\", \"isbestrevscore\": \"Yes\", \"isbestscore\": \"Yes\", \"outofalgorithms\": 10}, {\"algorithms\": \"PhylomeDB|OrthoFinder|Hieranoid|OMA|Ensembl Compara|Roundup|InParanoid|PANTHER|TreeFam|OrthoInspector\", \"algorithmsmatch\": 10, \"gene1id\": \"FB:FBgn0260795\", \"gene1speciesname\": \"Drosophila melanogaster\", \"gene1speciestaxonid\": \"NCBITaxon:7227\", \"gene1symbol\": \"NaPi-III\", \"gene2id\": \"MGI:97851\", \"gene2speciesname\": \"Mus musculus\", \"gene2speciestaxonid\": \"NCBITaxon:10090\", \"gene2symbol\": \"Slc20a2\", \"isbestrevscore\": \"Yes\", \"isbestscore\": \"Yes\", \"outofalgorithms\": 10}]}]}'\n"
     ]
    }
   ],
   "metadata": {}
  },
  {
   "cell_type": "code",
   "execution_count": 6,
   "source": [
    "# Bad case\r\n",
    "test_agr_plugin(\"WBGene00011502\")"
   ],
   "outputs": [
    {
     "output_type": "stream",
     "name": "stdout",
     "text": [
      "\n",
      "[INFO] query: http://localhost:8000/query?q=WBGene00011502 \n",
      " b'{\"took\": 1, \"total\": 0, \"max_score\": null, \"hits\": []}'\n"
     ]
    }
   ],
   "metadata": {}
  },
  {
   "cell_type": "code",
   "execution_count": 7,
   "source": [
    "# Working Case : full id - \"WBGene00011502\"\r\n",
    "test_agr_plugin(\"*00011502\")"
   ],
   "outputs": [
    {
     "output_type": "stream",
     "name": "stdout",
     "text": [
      "\n",
      "[INFO] query: http://localhost:8000/query?q=*00011502 \n",
      " b'{\"took\": 2, \"total\": 1, \"max_score\": 1.0, \"hits\": [{\"_id\": \"WBGene00011502\", \"_score\": 1.0, \"ortholog_info\": [{\"algorithms\": \"PhylomeDB|OrthoFinder|Hieranoid|OMA|Ensembl Compara|Roundup|InParanoid|PANTHER|OrthoInspector\", \"algorithmsmatch\": 9, \"gene1id\": \"WB:WBGene00011502\", \"gene1speciesname\": \"Caenorhabditis elegans\", \"gene1speciestaxonid\": \"NCBITaxon:6239\", \"gene1symbol\": \"vps-53\", \"gene2id\": \"SGD:S000003566\", \"gene2speciesname\": \"Saccharomyces cerevisiae\", \"gene2speciestaxonid\": \"NCBITaxon:559292\", \"gene2symbol\": \"VPS53\", \"isbestrevscore\": \"Yes\", \"isbestscore\": \"Yes\", \"outofalgorithms\": 10}, {\"algorithms\": \"PhylomeDB|OrthoFinder|Hieranoid|OMA|Ensembl Compara|Roundup|InParanoid|PANTHER|OrthoInspector\", \"algorithmsmatch\": 9, \"gene1id\": \"WB:WBGene00011502\", \"gene1speciesname\": \"Caenorhabditis elegans\", \"gene1speciestaxonid\": \"NCBITaxon:6239\", \"gene1symbol\": \"vps-53\", \"gene2id\": \"FB:FBgn0031598\", \"gene2speciesname\": \"Drosophila melanogaster\", \"gene2speciestaxonid\": \"NCBITaxon:7227\", \"gene2symbol\": \"Vps53\", \"isbestrevscore\": \"Yes\", \"isbestscore\": \"Yes\", \"outofalgorithms\": 10}, {\"algorithms\": \"OrthoFinder|Hieranoid|OMA|Ensembl Compara|Roundup|InParanoid|PANTHER|OrthoInspector\", \"algorithmsmatch\": 8, \"gene1id\": \"WB:WBGene00011502\", \"gene1speciesname\": \"Caenorhabditis elegans\", \"gene1speciestaxonid\": \"NCBITaxon:6239\", \"gene1symbol\": \"vps-53\", \"gene2id\": \"ZFIN:ZDB-GENE-041114-199\", \"gene2speciesname\": \"Danio rerio\", \"gene2speciestaxonid\": \"NCBITaxon:7955\", \"gene2symbol\": \"vps53\", \"isbestrevscore\": \"Yes\", \"isbestscore\": \"Yes\", \"outofalgorithms\": 10}, {\"algorithms\": \"OrthoFinder|Hieranoid|OMA|Ensembl Compara|InParanoid|PANTHER|OrthoInspector\", \"algorithmsmatch\": 7, \"gene1id\": \"WB:WBGene00011502\", \"gene1speciesname\": \"Caenorhabditis elegans\", \"gene1speciestaxonid\": \"NCBITaxon:6239\", \"gene1symbol\": \"vps-53\", \"gene2id\": \"RGD:1311391\", \"gene2speciesname\": \"Rattus norvegicus\", \"gene2speciestaxonid\": \"NCBITaxon:10116\", \"gene2symbol\": \"Vps53\", \"isbestrevscore\": \"Yes\", \"isbestscore\": \"Yes\", \"outofalgorithms\": 9}, {\"algorithms\": \"PhylomeDB|OrthoFinder|Hieranoid|OMA|Ensembl Compara|Roundup|InParanoid|PANTHER|OrthoInspector\", \"algorithmsmatch\": 9, \"gene1id\": \"WB:WBGene00011502\", \"gene1speciesname\": \"Caenorhabditis elegans\", \"gene1speciestaxonid\": \"NCBITaxon:6239\", \"gene1symbol\": \"vps-53\", \"gene2id\": \"HGNC:25608\", \"gene2speciesname\": \"Homo sapiens\", \"gene2speciestaxonid\": \"NCBITaxon:9606\", \"gene2symbol\": \"VPS53\", \"isbestrevscore\": \"Yes\", \"isbestscore\": \"Yes\", \"outofalgorithms\": 10}, {\"algorithms\": \"PhylomeDB|OrthoFinder|Hieranoid|OMA|Ensembl Compara|Roundup|InParanoid|PANTHER|OrthoInspector\", \"algorithmsmatch\": 9, \"gene1id\": \"WB:WBGene00011502\", \"gene1speciesname\": \"Caenorhabditis elegans\", \"gene1speciestaxonid\": \"NCBITaxon:6239\", \"gene1symbol\": \"vps-53\", \"gene2id\": \"MGI:1915549\", \"gene2speciesname\": \"Mus musculus\", \"gene2speciestaxonid\": \"NCBITaxon:10090\", \"gene2symbol\": \"Vps53\", \"isbestrevscore\": \"Yes\", \"isbestscore\": \"Yes\", \"outofalgorithms\": 10}]}]}'\n"
     ]
    }
   ],
   "metadata": {}
  },
  {
   "cell_type": "markdown",
   "source": [
    "---  \r\n",
    "<br>\r\n",
    "<br>\r\n",
    "\r\n",
    "\r\n",
    "## **mygene.info query testing**"
   ],
   "metadata": {}
  },
  {
   "cell_type": "code",
   "execution_count": 8,
   "source": [
    "gene=get_gene(\"FBgn0260795\")#ZDB-GENE-070112-1002, ZDB-GENE-041114-199, 1311391\r\n",
    "print(gene)"
   ],
   "outputs": [
    {
     "output_type": "stream",
     "name": "stdout",
     "text": [
      "{'_id': '39255', '_version': 2, 'name': 'Na[+]-dependent inorganic phosphate cotransporter type III', 'symbol': 'NaPi-III'}\n"
     ]
    }
   ],
   "metadata": {}
  },
  {
   "cell_type": "markdown",
   "source": [
    "---"
   ],
   "metadata": {}
  }
 ],
 "metadata": {
  "orig_nbformat": 4,
  "language_info": {
   "name": "python",
   "version": "3.7.10",
   "mimetype": "text/x-python",
   "codemirror_mode": {
    "name": "ipython",
    "version": 3
   },
   "pygments_lexer": "ipython3",
   "nbconvert_exporter": "python",
   "file_extension": ".py"
  },
  "kernelspec": {
   "name": "python3",
   "display_name": "Python 3.7.10 64-bit ('coding-challenge-sulab': conda)"
  },
  "interpreter": {
   "hash": "03fe218bf58a537a1f1499062a1497ca5cb770a5a4e96e3385dc47bb9fffb678"
  }
 },
 "nbformat": 4,
 "nbformat_minor": 2
}